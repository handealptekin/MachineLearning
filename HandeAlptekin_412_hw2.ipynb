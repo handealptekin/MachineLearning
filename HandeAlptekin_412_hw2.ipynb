{
  "nbformat": 4,
  "nbformat_minor": 0,
  "metadata": {
    "colab": {
      "name": "HandeAlptekin_412_hw2",
      "provenance": [],
      "collapsed_sections": []
    },
    "kernelspec": {
      "name": "python3",
      "display_name": "Python 3"
    }
  },
  "cells": [
    {
      "cell_type": "markdown",
      "metadata": {
        "id": "khfvm2ZTbxaF"
      },
      "source": [
        "# CS412 - Machine Learning - 2020\n",
        "\n",
        "# Homework 2\n",
        "\n",
        "100 pts\n",
        "\n",
        "# Goal\n",
        "\n",
        "The goal of this homework is to get familiar feature handling and cross validation.\n",
        "\n",
        "\n",
        "# Dataset\n",
        "\n",
        "German Credit Risk dataset, prepared by Prof. Hoffman, classifies each person as having a good or bad credit risk. The dataset that we use consists of both numerical and categorical features.\n",
        "\n",
        "\n",
        "\n",
        "# Task\n",
        "\n",
        "Build a k-NN classifier with scikit-learn library to classify people as bad or good risks for the german credit dataset. \n",
        "\n",
        "# Software\n",
        "\n",
        "Documentation for the necessary functions can be accessed from the link below.\n",
        "\n",
        "[http://scikit-learn.org/stable/supervised_learning.html](http://scikit-learn.org/stable/supervised_learning.html)\n",
        "\n",
        "# Submission\n",
        "\n",
        "Follow the instructions at the end.\n"
      ]
    },
    {
      "cell_type": "markdown",
      "metadata": {
        "id": "X9WhAm9Ii-SH"
      },
      "source": [
        "# 1) Initialize\n",
        "\n",
        "First, make a copy of this notebook in your drive"
      ]
    },
    {
      "cell_type": "code",
      "metadata": {
        "id": "V99blGJZ02tQ"
      },
      "source": [
        "# Mount to your drive, in this way you can reach files that are in your drive\n",
        "# Run this cell\n",
        "# Go through the link that will be showed below\n",
        "# Select your google drive account and copy authorization code and paste here in output and press enter\n",
        "# You can also follow the steps from that link\n",
        "# https://medium.com/ml-book/simplest-way-to-open-files-from-google-drive-in-google-colab-fae14810674 \n",
        "\n",
        "from google.colab import drive\n",
        "drive.mount('/content/drive')"
      ],
      "execution_count": null,
      "outputs": []
    },
    {
      "cell_type": "markdown",
      "metadata": {
        "id": "fLcZp_XKjp2N"
      },
      "source": [
        "# 2) Load Dataset\n",
        "\n",
        "To start working for your homework, take a copy of the folder, given in the below link to your own google drive. You find the train and test data under this folder.\n",
        "\n",
        "[https://drive.google.com/drive/folders/1DbW6VxLKZv2oqFn9SwxAnVadmn1_nPXi?usp=sharing](https://drive.google.com/drive/folders/1DbW6VxLKZv2oqFn9SwxAnVadmn1_nPXi?usp=sharing)\n",
        "\n",
        "After copy the folder, copy the path of the train and test dataset to paste them in the below cell to load your data.\n"
      ]
    },
    {
      "cell_type": "code",
      "metadata": {
        "id": "jSZvqTSTbsv8",
        "colab": {
          "base_uri": "https://localhost:8080/",
          "height": 195
        },
        "outputId": "49347297-5e8f-44f9-aa32-168db0961cdc"
      },
      "source": [
        "import pandas as pd\n",
        "\n",
        "train_df = pd.read_csv('/content/drive/My Drive/german_credit_train.csv')\n",
        "\n",
        "test_df = pd.read_csv('/content/drive/My Drive/german_credit_test.csv')\n",
        "\n",
        "train_df.head()\n",
        "#test_df.head()"
      ],
      "execution_count": null,
      "outputs": [
        {
          "output_type": "execute_result",
          "data": {
            "text/html": [
              "<div>\n",
              "<style scoped>\n",
              "    .dataframe tbody tr th:only-of-type {\n",
              "        vertical-align: middle;\n",
              "    }\n",
              "\n",
              "    .dataframe tbody tr th {\n",
              "        vertical-align: top;\n",
              "    }\n",
              "\n",
              "    .dataframe thead th {\n",
              "        text-align: right;\n",
              "    }\n",
              "</style>\n",
              "<table border=\"1\" class=\"dataframe\">\n",
              "  <thead>\n",
              "    <tr style=\"text-align: right;\">\n",
              "      <th></th>\n",
              "      <th>AccountStatus</th>\n",
              "      <th>Duration</th>\n",
              "      <th>CreditHistory</th>\n",
              "      <th>CreditAmount</th>\n",
              "      <th>SavingsAccount</th>\n",
              "      <th>EmploymentSince</th>\n",
              "      <th>PercentOfIncome</th>\n",
              "      <th>PersonalStatus</th>\n",
              "      <th>Property</th>\n",
              "      <th>Age</th>\n",
              "      <th>OtherInstallPlans</th>\n",
              "      <th>Housing</th>\n",
              "      <th>Risk</th>\n",
              "    </tr>\n",
              "  </thead>\n",
              "  <tbody>\n",
              "    <tr>\n",
              "      <th>0</th>\n",
              "      <td>A14</td>\n",
              "      <td>12</td>\n",
              "      <td>A32</td>\n",
              "      <td>2859</td>\n",
              "      <td>A65</td>\n",
              "      <td>A71</td>\n",
              "      <td>4</td>\n",
              "      <td>A93</td>\n",
              "      <td>A124</td>\n",
              "      <td>38</td>\n",
              "      <td>A143</td>\n",
              "      <td>A152</td>\n",
              "      <td>1</td>\n",
              "    </tr>\n",
              "    <tr>\n",
              "      <th>1</th>\n",
              "      <td>A11</td>\n",
              "      <td>9</td>\n",
              "      <td>A32</td>\n",
              "      <td>2136</td>\n",
              "      <td>A61</td>\n",
              "      <td>A73</td>\n",
              "      <td>3</td>\n",
              "      <td>A93</td>\n",
              "      <td>A121</td>\n",
              "      <td>25</td>\n",
              "      <td>A143</td>\n",
              "      <td>A152</td>\n",
              "      <td>1</td>\n",
              "    </tr>\n",
              "    <tr>\n",
              "      <th>2</th>\n",
              "      <td>A11</td>\n",
              "      <td>18</td>\n",
              "      <td>A34</td>\n",
              "      <td>5302</td>\n",
              "      <td>A61</td>\n",
              "      <td>A75</td>\n",
              "      <td>2</td>\n",
              "      <td>A93</td>\n",
              "      <td>A124</td>\n",
              "      <td>36</td>\n",
              "      <td>A143</td>\n",
              "      <td>A153</td>\n",
              "      <td>1</td>\n",
              "    </tr>\n",
              "    <tr>\n",
              "      <th>3</th>\n",
              "      <td>A11</td>\n",
              "      <td>14</td>\n",
              "      <td>A32</td>\n",
              "      <td>8978</td>\n",
              "      <td>A61</td>\n",
              "      <td>A75</td>\n",
              "      <td>1</td>\n",
              "      <td>A91</td>\n",
              "      <td>A122</td>\n",
              "      <td>45</td>\n",
              "      <td>A143</td>\n",
              "      <td>A152</td>\n",
              "      <td>2</td>\n",
              "    </tr>\n",
              "    <tr>\n",
              "      <th>4</th>\n",
              "      <td>A14</td>\n",
              "      <td>15</td>\n",
              "      <td>A32</td>\n",
              "      <td>4623</td>\n",
              "      <td>A62</td>\n",
              "      <td>A73</td>\n",
              "      <td>3</td>\n",
              "      <td>A93</td>\n",
              "      <td>A122</td>\n",
              "      <td>40</td>\n",
              "      <td>A143</td>\n",
              "      <td>A152</td>\n",
              "      <td>2</td>\n",
              "    </tr>\n",
              "  </tbody>\n",
              "</table>\n",
              "</div>"
            ],
            "text/plain": [
              "  AccountStatus  Duration CreditHistory  ...  OtherInstallPlans Housing Risk\n",
              "0           A14        12           A32  ...               A143    A152    1\n",
              "1           A11         9           A32  ...               A143    A152    1\n",
              "2           A11        18           A34  ...               A143    A153    1\n",
              "3           A11        14           A32  ...               A143    A152    2\n",
              "4           A14        15           A32  ...               A143    A152    2\n",
              "\n",
              "[5 rows x 13 columns]"
            ]
          },
          "metadata": {
            "tags": []
          },
          "execution_count": 112
        }
      ]
    },
    {
      "cell_type": "markdown",
      "metadata": {
        "id": "q4PwZVkZkCZQ"
      },
      "source": [
        "# 3) Optional - Analyze the Dataset \n",
        "\n",
        "You can use the functions of the pandas library to analyze your train dataset in detail - **this part is OPTIONAL - look around the data as you wish**.\n",
        "\n",
        "\n",
        "*   Display the number of instances and features in the train ***(shape function can be used)**\n",
        "*   Display 5 random examples from the train ***(sample function can be used)**\n",
        "*   Display the information about each features ***(info method can be used)**\n",
        "\n"
      ]
    },
    {
      "cell_type": "code",
      "metadata": {
        "id": "-XdZUTLqkAw7",
        "colab": {
          "base_uri": "https://localhost:8080/",
          "height": 246
        },
        "outputId": "57a0b29d-1f07-4a30-9554-03ceba6f1d95"
      },
      "source": [
        "# Print shape\n",
        "print(\"Train data dimensionality: \", train_df.shape )\n",
        "\n",
        "# Print shape\n",
        "print(\"Test data dimensionality: \", test_df.shape )\n",
        "\n",
        "# Print random 5 rows\n",
        "print(\"Examples from train data: \"  )\n",
        "train_df.sample(n=5)\n",
        "\n",
        "\n"
      ],
      "execution_count": null,
      "outputs": [
        {
          "output_type": "stream",
          "text": [
            "Train data dimensionality:  (800, 13)\n",
            "Test data dimensionality:  (200, 13)\n",
            "Examples from train data: \n"
          ],
          "name": "stdout"
        },
        {
          "output_type": "execute_result",
          "data": {
            "text/html": [
              "<div>\n",
              "<style scoped>\n",
              "    .dataframe tbody tr th:only-of-type {\n",
              "        vertical-align: middle;\n",
              "    }\n",
              "\n",
              "    .dataframe tbody tr th {\n",
              "        vertical-align: top;\n",
              "    }\n",
              "\n",
              "    .dataframe thead th {\n",
              "        text-align: right;\n",
              "    }\n",
              "</style>\n",
              "<table border=\"1\" class=\"dataframe\">\n",
              "  <thead>\n",
              "    <tr style=\"text-align: right;\">\n",
              "      <th></th>\n",
              "      <th>AccountStatus</th>\n",
              "      <th>Duration</th>\n",
              "      <th>CreditHistory</th>\n",
              "      <th>CreditAmount</th>\n",
              "      <th>SavingsAccount</th>\n",
              "      <th>EmploymentSince</th>\n",
              "      <th>PercentOfIncome</th>\n",
              "      <th>PersonalStatus</th>\n",
              "      <th>Property</th>\n",
              "      <th>Age</th>\n",
              "      <th>OtherInstallPlans</th>\n",
              "      <th>Housing</th>\n",
              "      <th>Risk</th>\n",
              "    </tr>\n",
              "  </thead>\n",
              "  <tbody>\n",
              "    <tr>\n",
              "      <th>144</th>\n",
              "      <td>A11</td>\n",
              "      <td>18</td>\n",
              "      <td>A32</td>\n",
              "      <td>1217</td>\n",
              "      <td>A61</td>\n",
              "      <td>A73</td>\n",
              "      <td>4</td>\n",
              "      <td>A94</td>\n",
              "      <td>A121</td>\n",
              "      <td>47</td>\n",
              "      <td>A143</td>\n",
              "      <td>A152</td>\n",
              "      <td>2</td>\n",
              "    </tr>\n",
              "    <tr>\n",
              "      <th>79</th>\n",
              "      <td>A14</td>\n",
              "      <td>18</td>\n",
              "      <td>A33</td>\n",
              "      <td>2320</td>\n",
              "      <td>A61</td>\n",
              "      <td>A71</td>\n",
              "      <td>2</td>\n",
              "      <td>A94</td>\n",
              "      <td>A121</td>\n",
              "      <td>34</td>\n",
              "      <td>A143</td>\n",
              "      <td>A152</td>\n",
              "      <td>1</td>\n",
              "    </tr>\n",
              "    <tr>\n",
              "      <th>663</th>\n",
              "      <td>A12</td>\n",
              "      <td>12</td>\n",
              "      <td>A34</td>\n",
              "      <td>2366</td>\n",
              "      <td>A63</td>\n",
              "      <td>A74</td>\n",
              "      <td>3</td>\n",
              "      <td>A91</td>\n",
              "      <td>A123</td>\n",
              "      <td>36</td>\n",
              "      <td>A143</td>\n",
              "      <td>A152</td>\n",
              "      <td>1</td>\n",
              "    </tr>\n",
              "    <tr>\n",
              "      <th>263</th>\n",
              "      <td>A11</td>\n",
              "      <td>24</td>\n",
              "      <td>A32</td>\n",
              "      <td>2964</td>\n",
              "      <td>A65</td>\n",
              "      <td>A75</td>\n",
              "      <td>4</td>\n",
              "      <td>A93</td>\n",
              "      <td>A124</td>\n",
              "      <td>49</td>\n",
              "      <td>A141</td>\n",
              "      <td>A153</td>\n",
              "      <td>1</td>\n",
              "    </tr>\n",
              "    <tr>\n",
              "      <th>791</th>\n",
              "      <td>A12</td>\n",
              "      <td>9</td>\n",
              "      <td>A32</td>\n",
              "      <td>790</td>\n",
              "      <td>A63</td>\n",
              "      <td>A73</td>\n",
              "      <td>4</td>\n",
              "      <td>A92</td>\n",
              "      <td>A121</td>\n",
              "      <td>66</td>\n",
              "      <td>A143</td>\n",
              "      <td>A152</td>\n",
              "      <td>1</td>\n",
              "    </tr>\n",
              "  </tbody>\n",
              "</table>\n",
              "</div>"
            ],
            "text/plain": [
              "    AccountStatus  Duration CreditHistory  ...  OtherInstallPlans Housing Risk\n",
              "144           A11        18           A32  ...               A143    A152    2\n",
              "79            A14        18           A33  ...               A143    A152    1\n",
              "663           A12        12           A34  ...               A143    A152    1\n",
              "263           A11        24           A32  ...               A141    A153    1\n",
              "791           A12         9           A32  ...               A143    A152    1\n",
              "\n",
              "[5 rows x 13 columns]"
            ]
          },
          "metadata": {
            "tags": []
          },
          "execution_count": 113
        }
      ]
    },
    {
      "cell_type": "code",
      "metadata": {
        "id": "NLL4s7GFsBVJ",
        "colab": {
          "base_uri": "https://localhost:8080/"
        },
        "outputId": "9969d69f-261f-4842-e824-28166d0a63c2"
      },
      "source": [
        "# Print the information about the dataset\n",
        "print(\"Information about train data \", train_df.info )"
      ],
      "execution_count": null,
      "outputs": [
        {
          "output_type": "stream",
          "text": [
            "Information about train data  <bound method DataFrame.info of     AccountStatus  Duration CreditHistory  ...  OtherInstallPlans Housing Risk\n",
            "0             A14        12           A32  ...               A143    A152    1\n",
            "1             A11         9           A32  ...               A143    A152    1\n",
            "2             A11        18           A34  ...               A143    A153    1\n",
            "3             A11        14           A32  ...               A143    A152    2\n",
            "4             A14        15           A32  ...               A143    A152    2\n",
            "..            ...       ...           ...  ...                ...     ...  ...\n",
            "795           A12         9           A32  ...               A143     NaN    1\n",
            "796           A14        12           A34  ...               A143     NaN    1\n",
            "797           A12        36           A32  ...               A143    A153    2\n",
            "798           A12        12           A32  ...               A143    A152    1\n",
            "799           A13         9           A32  ...               A143    A152    2\n",
            "\n",
            "[800 rows x 13 columns]>\n"
          ],
          "name": "stdout"
        }
      ]
    },
    {
      "cell_type": "markdown",
      "metadata": {
        "id": "_yVSSt0mtH0W"
      },
      "source": [
        "# 4) Define your train and test labels\n",
        "\n",
        "*  Define labels for both train and test data in new arrays \n",
        "*  And remove the label column from both train and test sets do tht it is not used as a feature! \n",
        "\n",
        "\n",
        "(**you can use pop method**)\n"
      ]
    },
    {
      "cell_type": "code",
      "metadata": {
        "id": "heg3V6IssehF"
      },
      "source": [
        "# Define labels\n",
        "train_label = train_df.pop('Risk')\n",
        "test_label = test_df.pop('Risk')"
      ],
      "execution_count": null,
      "outputs": []
    },
    {
      "cell_type": "code",
      "metadata": {
        "id": "ga3_7HjXQqoS",
        "colab": {
          "base_uri": "https://localhost:8080/",
          "height": 195
        },
        "outputId": "2af9fda8-26ec-4cb5-c581-6d59af718826"
      },
      "source": [
        "train_df.head()\n",
        "#risk label is popped"
      ],
      "execution_count": null,
      "outputs": [
        {
          "output_type": "execute_result",
          "data": {
            "text/html": [
              "<div>\n",
              "<style scoped>\n",
              "    .dataframe tbody tr th:only-of-type {\n",
              "        vertical-align: middle;\n",
              "    }\n",
              "\n",
              "    .dataframe tbody tr th {\n",
              "        vertical-align: top;\n",
              "    }\n",
              "\n",
              "    .dataframe thead th {\n",
              "        text-align: right;\n",
              "    }\n",
              "</style>\n",
              "<table border=\"1\" class=\"dataframe\">\n",
              "  <thead>\n",
              "    <tr style=\"text-align: right;\">\n",
              "      <th></th>\n",
              "      <th>AccountStatus</th>\n",
              "      <th>Duration</th>\n",
              "      <th>CreditHistory</th>\n",
              "      <th>CreditAmount</th>\n",
              "      <th>SavingsAccount</th>\n",
              "      <th>EmploymentSince</th>\n",
              "      <th>PercentOfIncome</th>\n",
              "      <th>PersonalStatus</th>\n",
              "      <th>Property</th>\n",
              "      <th>Age</th>\n",
              "      <th>OtherInstallPlans</th>\n",
              "      <th>Housing</th>\n",
              "    </tr>\n",
              "  </thead>\n",
              "  <tbody>\n",
              "    <tr>\n",
              "      <th>0</th>\n",
              "      <td>A14</td>\n",
              "      <td>12</td>\n",
              "      <td>A32</td>\n",
              "      <td>2859</td>\n",
              "      <td>A65</td>\n",
              "      <td>A71</td>\n",
              "      <td>4</td>\n",
              "      <td>A93</td>\n",
              "      <td>A124</td>\n",
              "      <td>38</td>\n",
              "      <td>A143</td>\n",
              "      <td>A152</td>\n",
              "    </tr>\n",
              "    <tr>\n",
              "      <th>1</th>\n",
              "      <td>A11</td>\n",
              "      <td>9</td>\n",
              "      <td>A32</td>\n",
              "      <td>2136</td>\n",
              "      <td>A61</td>\n",
              "      <td>A73</td>\n",
              "      <td>3</td>\n",
              "      <td>A93</td>\n",
              "      <td>A121</td>\n",
              "      <td>25</td>\n",
              "      <td>A143</td>\n",
              "      <td>A152</td>\n",
              "    </tr>\n",
              "    <tr>\n",
              "      <th>2</th>\n",
              "      <td>A11</td>\n",
              "      <td>18</td>\n",
              "      <td>A34</td>\n",
              "      <td>5302</td>\n",
              "      <td>A61</td>\n",
              "      <td>A75</td>\n",
              "      <td>2</td>\n",
              "      <td>A93</td>\n",
              "      <td>A124</td>\n",
              "      <td>36</td>\n",
              "      <td>A143</td>\n",
              "      <td>A153</td>\n",
              "    </tr>\n",
              "    <tr>\n",
              "      <th>3</th>\n",
              "      <td>A11</td>\n",
              "      <td>14</td>\n",
              "      <td>A32</td>\n",
              "      <td>8978</td>\n",
              "      <td>A61</td>\n",
              "      <td>A75</td>\n",
              "      <td>1</td>\n",
              "      <td>A91</td>\n",
              "      <td>A122</td>\n",
              "      <td>45</td>\n",
              "      <td>A143</td>\n",
              "      <td>A152</td>\n",
              "    </tr>\n",
              "    <tr>\n",
              "      <th>4</th>\n",
              "      <td>A14</td>\n",
              "      <td>15</td>\n",
              "      <td>A32</td>\n",
              "      <td>4623</td>\n",
              "      <td>A62</td>\n",
              "      <td>A73</td>\n",
              "      <td>3</td>\n",
              "      <td>A93</td>\n",
              "      <td>A122</td>\n",
              "      <td>40</td>\n",
              "      <td>A143</td>\n",
              "      <td>A152</td>\n",
              "    </tr>\n",
              "  </tbody>\n",
              "</table>\n",
              "</div>"
            ],
            "text/plain": [
              "  AccountStatus  Duration CreditHistory  ...  Age OtherInstallPlans Housing\n",
              "0           A14        12           A32  ...   38              A143    A152\n",
              "1           A11         9           A32  ...   25              A143    A152\n",
              "2           A11        18           A34  ...   36              A143    A153\n",
              "3           A11        14           A32  ...   45              A143    A152\n",
              "4           A14        15           A32  ...   40              A143    A152\n",
              "\n",
              "[5 rows x 12 columns]"
            ]
          },
          "metadata": {
            "tags": []
          },
          "execution_count": 116
        }
      ]
    },
    {
      "cell_type": "markdown",
      "metadata": {
        "id": "LGw3v-ai4jTN"
      },
      "source": [
        "# 5) Handle missing values if any \n",
        "\n",
        "*   Print the columns that have **NaN** values (**isnull** method can be used)\n",
        "*   You can impute missing values with mode of that feature or remove samples or attributes\n",
        "*   To impute the test set, you should use the mode values that you obtain from **train** set, as **you should not be looking at your test data to gain any information or advantage.**\n",
        "\n"
      ]
    },
    {
      "cell_type": "code",
      "metadata": {
        "id": "8TNKte7c8EpR",
        "colab": {
          "base_uri": "https://localhost:8080/"
        },
        "outputId": "026163d6-6230-4a67-c925-4efd631458fe"
      },
      "source": [
        "# Print columns with NaN values\n",
        "print(\"Number of rows: \", len(train_df))\n",
        "print(\"Number of rows without nan values:\", len(train_df.dropna()))\n",
        "print(\"We see that 80 rows have nan values train dataframe.\\n\")\n",
        "\n",
        "train_df.isnull().any()\n"
      ],
      "execution_count": null,
      "outputs": [
        {
          "output_type": "stream",
          "text": [
            "Number of rows:  800\n",
            "Number of rows without nan values: 720\n",
            "We see that 80 rows have nan values train dataframe.\n",
            "\n"
          ],
          "name": "stdout"
        },
        {
          "output_type": "execute_result",
          "data": {
            "text/plain": [
              "AccountStatus        False\n",
              "Duration             False\n",
              "CreditHistory        False\n",
              "CreditAmount         False\n",
              "SavingsAccount       False\n",
              "EmploymentSince      False\n",
              "PercentOfIncome      False\n",
              "PersonalStatus       False\n",
              "Property             False\n",
              "Age                  False\n",
              "OtherInstallPlans    False\n",
              "Housing               True\n",
              "dtype: bool"
            ]
          },
          "metadata": {
            "tags": []
          },
          "execution_count": 117
        }
      ]
    },
    {
      "cell_type": "code",
      "metadata": {
        "id": "vdI-TsutSvwg",
        "colab": {
          "base_uri": "https://localhost:8080/"
        },
        "outputId": "0e98b544-8a51-4fdf-a1a1-2960ccb1c5c6"
      },
      "source": [
        "print(\"We see that only the housing column has nan values and there are 80 rows with missing housing value.\\n\")\n",
        "train_df.isnull().sum()\n"
      ],
      "execution_count": null,
      "outputs": [
        {
          "output_type": "stream",
          "text": [
            "We see that only the housing column has nan values and there are 80 rows with missing housing value.\n",
            "\n"
          ],
          "name": "stdout"
        },
        {
          "output_type": "execute_result",
          "data": {
            "text/plain": [
              "AccountStatus         0\n",
              "Duration              0\n",
              "CreditHistory         0\n",
              "CreditAmount          0\n",
              "SavingsAccount        0\n",
              "EmploymentSince       0\n",
              "PercentOfIncome       0\n",
              "PersonalStatus        0\n",
              "Property              0\n",
              "Age                   0\n",
              "OtherInstallPlans     0\n",
              "Housing              80\n",
              "dtype: int64"
            ]
          },
          "metadata": {
            "tags": []
          },
          "execution_count": 118
        }
      ]
    },
    {
      "cell_type": "code",
      "metadata": {
        "id": "YnTWfPrOYjuY",
        "colab": {
          "base_uri": "https://localhost:8080/"
        },
        "outputId": "51f69e80-04ff-4fab-b110-3f857b17f4db"
      },
      "source": [
        "# Print columns with NaN values\n",
        "print(\"Number of rows: \", len(test_df))\n",
        "print(\"Number of rows without nan values:\", len(test_df.dropna()))\n",
        "print(\"We see that 20 rows have nan values in the test dataframe.\\n\")\n",
        "\n",
        "test_df.isnull().any()\n"
      ],
      "execution_count": null,
      "outputs": [
        {
          "output_type": "stream",
          "text": [
            "Number of rows:  200\n",
            "Number of rows without nan values: 180\n",
            "We see that 20 rows have nan values in the test dataframe.\n",
            "\n"
          ],
          "name": "stdout"
        },
        {
          "output_type": "execute_result",
          "data": {
            "text/plain": [
              "AccountStatus        False\n",
              "Duration             False\n",
              "CreditHistory        False\n",
              "CreditAmount         False\n",
              "SavingsAccount       False\n",
              "EmploymentSince      False\n",
              "PercentOfIncome      False\n",
              "PersonalStatus       False\n",
              "Property             False\n",
              "Age                  False\n",
              "OtherInstallPlans    False\n",
              "Housing               True\n",
              "dtype: bool"
            ]
          },
          "metadata": {
            "tags": []
          },
          "execution_count": 119
        }
      ]
    },
    {
      "cell_type": "code",
      "metadata": {
        "id": "jLJqUKJsYuii",
        "colab": {
          "base_uri": "https://localhost:8080/"
        },
        "outputId": "6183c09e-18b0-4f93-a9c4-dcb11c0c92d1"
      },
      "source": [
        "print(\"We see that only the housing column has nan values and there are 20 rows with missing housing value.\\n\")\n",
        "test_df.isnull().sum()"
      ],
      "execution_count": null,
      "outputs": [
        {
          "output_type": "stream",
          "text": [
            "We see that only the housing column has nan values and there are 20 rows with missing housing value.\n",
            "\n"
          ],
          "name": "stdout"
        },
        {
          "output_type": "execute_result",
          "data": {
            "text/plain": [
              "AccountStatus         0\n",
              "Duration              0\n",
              "CreditHistory         0\n",
              "CreditAmount          0\n",
              "SavingsAccount        0\n",
              "EmploymentSince       0\n",
              "PercentOfIncome       0\n",
              "PersonalStatus        0\n",
              "Property              0\n",
              "Age                   0\n",
              "OtherInstallPlans     0\n",
              "Housing              20\n",
              "dtype: int64"
            ]
          },
          "metadata": {
            "tags": []
          },
          "execution_count": 120
        }
      ]
    },
    {
      "cell_type": "code",
      "metadata": {
        "id": "Hd6s66xKLEiO",
        "colab": {
          "base_uri": "https://localhost:8080/"
        },
        "outputId": "76cdff0b-9145-42d6-9185-eaeaba402d26"
      },
      "source": [
        "# Impute missing values by replacing with mode value\n",
        "train_df['Housing'] = train_df['Housing'].fillna(train_df['Housing'].mode()[0])\n",
        "test_df['Housing'] = test_df['Housing'].fillna(train_df['Housing'].mode()[0])\n",
        "print(\"We imputed the housing values in train and test dataframes with the most common value in the train dataframe.\")"
      ],
      "execution_count": null,
      "outputs": [
        {
          "output_type": "stream",
          "text": [
            "We imputed the housing values in train and test dataframes with the most common value in the train dataframe.\n"
          ],
          "name": "stdout"
        }
      ]
    },
    {
      "cell_type": "markdown",
      "metadata": {
        "id": "KkgqFpyr2BrX"
      },
      "source": [
        "# 6) Transform categorical / ordinal features\n",
        "\n",
        "* Transform all categorical / ordinal features using the methods that you have learnt in lectures and recitation 4 for both train and test data\n",
        "* You saw the dictionary use for mapping in recitation. (You can use **replace function** to assign new values to the categories of a column).\n",
        "\n",
        "*  The class of the categorical attributes in the dataset are defined as follows:\n",
        "  - Status of existing checking account\n",
        "     - A11 :      ... <    0 DM\n",
        "\t- A12 : 0 <= ... <  200 DM\n",
        "\t- A13 :      ... >= 200 DM / salary assignments for at least 1 year\n",
        "     - A14 : no checking account\n",
        "\n",
        " - Credit history\n",
        "    - A30 : no credits taken/all credits paid back duly\n",
        "    - A31 : all credits at this bank paid back duly\n",
        "\t- A32 : existing credits paid back duly till now\n",
        "    - A33 : delay in paying off in the past\n",
        "\t- A34 : critical account/other credits existing (not at this bank)\n",
        "\n",
        "  - Savings account\n",
        "    - A61 :          ... <  100 DM\n",
        "\t- A62 :   100 <= ... <  500 DM\n",
        "\t- A63 :   500 <= ... < 1000 DM\n",
        "\t- A64 :          .. >= 1000 DM\n",
        "    - A65 :   unknown/ no savings account\n",
        "\n",
        " - Employment Since\n",
        "    - A71 : unemployed\n",
        "    - A72 :       ... < 1 year\n",
        "\t- A73 : 1  <= ... < 4 years  \n",
        "\t- A74 : 4  <= ... < 7 years\n",
        "\t- A75 :       .. >= 7 years\n",
        " \n",
        " - Personal Status\n",
        "    - A91 : male   : divorced/separated\n",
        "\t- A92 : female : divorced/separated/married\n",
        "    - A93 : male   : single\n",
        "\t- A94 : male   : married/widowed\n",
        "\t- A95 : female : single\n",
        "\n",
        "  - Property\n",
        "     -  A121 : real estate\n",
        "\t- A122 : if not A121 : building society savings agreement/life insurance\n",
        "    - A123 : if not A121/A122 : car or other, not in attribute 6\n",
        "\t- A124 : unknown / no property\n",
        "\n",
        " - OtherInstallPlans  \n",
        "    - A141 : bank\n",
        "\t- A142 : stores\n",
        "\t- A143 : none\n",
        "\n",
        " - Housing\n",
        "    -  A151 : rent\n",
        "\t - A152 : own\n",
        "\t- A153 : for free"
      ]
    },
    {
      "cell_type": "code",
      "metadata": {
        "id": "Evng6_DyYevs"
      },
      "source": [
        "# Transform the ordinal attributes\n",
        "checking_account_map = {'A14':0, 'A11':1, 'A12':2, 'A13':3}\n",
        "train_df['AccountStatus'] =train_df['AccountStatus'].replace(checking_account_map)\n",
        "test_df['AccountStatus'] =test_df['AccountStatus'].replace(checking_account_map)\n",
        "\n",
        "credit_history_map = {'A30':4, 'A31':3, 'A32':2, 'A33':1, 'A34':0}\n",
        "train_df['CreditHistory'] =train_df['CreditHistory'].replace(credit_history_map)\n",
        "test_df['CreditHistory'] =test_df['CreditHistory'].replace(credit_history_map)\n",
        "\n",
        "savings_account_map = {'A65':0, 'A61':1, 'A62':2, 'A63':3, 'A64':4}\n",
        "train_df['SavingsAccount'] =train_df['SavingsAccount'].replace(savings_account_map)\n",
        "test_df['SavingsAccount'] =test_df['SavingsAccount'].replace(savings_account_map)\n",
        "\n",
        "employment_since_map = {'A71':0, 'A72':1, 'A73':2, 'A74':3, 'A75':4}\n",
        "train_df['EmploymentSince'] =train_df['EmploymentSince'].replace(employment_since_map)\n",
        "test_df['EmploymentSince'] =test_df['EmploymentSince'].replace(employment_since_map)\n",
        "\n",
        "property_map = {'A124':0, 'A123':1, 'A122':2, 'A121':3}\n",
        "train_df['Property'] =train_df['Property'].replace(property_map)\n",
        "test_df['Property'] =test_df['Property'].replace(property_map)\n"
      ],
      "execution_count": null,
      "outputs": []
    },
    {
      "cell_type": "code",
      "metadata": {
        "id": "3Kc_340-9WVD"
      },
      "source": [
        "# Transform the categorical attributes #train_df['OtherInstallPlans'], train_df['Housing']\n",
        "from sklearn.preprocessing import OneHotEncoder\n",
        "enc= OneHotEncoder(handle_unknown = 'ignore')\n",
        "dummy = enc.fit_transform(train_df[[\"OtherInstallPlans\", \"PersonalStatus\", \"Housing\"]]).toarray()\n",
        "dummy_df = pd.DataFrame(dummy)\n",
        "\n",
        "train_df = pd.merge(train_df, dummy_df, right_index=True, left_index=True)\n",
        "train_df = train_df.drop(columns=[\"OtherInstallPlans\", \"PersonalStatus\", \"Housing\"])"
      ],
      "execution_count": null,
      "outputs": []
    },
    {
      "cell_type": "code",
      "metadata": {
        "id": "8viT_lK5CLUT"
      },
      "source": [
        "dummy_test = enc.transform(test_df[[\"OtherInstallPlans\", \"PersonalStatus\", \"Housing\"]]).toarray()\n",
        "dummy_test_df = pd.DataFrame(dummy_test)\n",
        "\n",
        "test_df = pd.merge(test_df, dummy_test_df, right_index=True, left_index=True)\n",
        "test_df = test_df.drop(columns=[\"OtherInstallPlans\", \"PersonalStatus\", \"Housing\"])"
      ],
      "execution_count": null,
      "outputs": []
    },
    {
      "cell_type": "markdown",
      "metadata": {
        "id": "eVcTCh9-AnFv"
      },
      "source": [
        "# 7) Build a k-NN classifier on training data and perform models selection using 5 fold cross validation\n",
        "\n",
        "*  Initialize k-NN classifiers with **k= 5, 10, 15**\n",
        "*  Calculate the cross validation scores using cross_al_score method, number of folds is 5. \n",
        "*  Note: Xval is performed on training data! Do not use test data in any way and do not separate a hold-out validation set, rather use cross-validation.\n",
        "\n",
        "Documentation of the cross_val_score method:\n",
        "\n",
        "[https://scikit-learn.org/stable/modules/generated/sklearn.model_selection.cross_val_score.html#sklearn.model_selection.cross_val_score](https://scikit-learn.org/stable/modules/generated/sklearn.model_selection.cross_val_score.html#sklearn.model_selection.cross_val_score)\n",
        "\n",
        "*  Stores the average accuracies of these folds\n",
        "*  Select the value of k using the cross validation results. "
      ]
    },
    {
      "cell_type": "code",
      "metadata": {
        "id": "Ycu-nnwLDhv-"
      },
      "source": [
        "from sklearn.model_selection import train_test_split\n",
        "x_train, x_test, y_train, y_test = train_test_split(train_df, train_label, test_size=0.2, random_state=42)\n",
        "x_train, x_valid, y_train, y_valid = train_test_split(x_train,y_train,test_size=0.25,random_state=42)"
      ],
      "execution_count": null,
      "outputs": []
    },
    {
      "cell_type": "code",
      "metadata": {
        "id": "ficAs0W52b8r",
        "colab": {
          "base_uri": "https://localhost:8080/"
        },
        "outputId": "3421f3cc-de34-4ed4-c364-a6762e7927e3"
      },
      "source": [
        "from sklearn.neighbors import KNeighborsClassifier\n",
        "from sklearn.model_selection import cross_val_score\n",
        "from statistics import mean\n",
        "from sklearn.metrics import accuracy_score\n",
        "\n",
        "# k values\n",
        "kVals = [5,10,15]\n",
        "\n",
        "# Save the accuracies of each value of kVal in [accuracies] variable\n",
        "accuracies = []\n",
        "# Loop over values of k for the k-Nearest Neighbor classifier\n",
        "# Initialize a k-NN classifier with k neighbors\n",
        "for k in kVals:\n",
        "  knn = KNeighborsClassifier(n_neighbors=k)\n",
        "  knn.fit(x_train,y_train)\n",
        "  y_pred_knn = knn.predict(x_valid)\n",
        "  accuracies.append(accuracy_score(y_valid,y_pred_knn))\n",
        "\n",
        "  # Calculate the 5 fold cross validation scores using cross_val_score\n",
        "  # cv parameter: number of folds, in our case it must be 5\n",
        "  scores = cross_val_score(knn, x_train, y_train, cv=5)\n",
        "  print(\"Accuracy for knn=\", k ,\": %0.2f (+/- %0.2f)\" % (scores.mean(), scores.std() * 2))\n",
        "\n",
        "  # Stores the average accuracies of the scores in accuracies variable, you can use mean method\n",
        "print(accuracies)"
      ],
      "execution_count": null,
      "outputs": [
        {
          "output_type": "stream",
          "text": [
            "Accuracy for knn= 5 : 0.66 (+/- 0.07)\n",
            "Accuracy for knn= 10 : 0.68 (+/- 0.04)\n",
            "Accuracy for knn= 15 : 0.68 (+/- 0.06)\n",
            "[0.7, 0.7375, 0.75625]\n"
          ],
          "name": "stdout"
        }
      ]
    },
    {
      "cell_type": "markdown",
      "metadata": {
        "id": "_t4ss1Ixglor"
      },
      "source": [
        "# 8) Retrain using all training data and test on test set\n",
        "\n",
        "* Train a classifier with the chosen k value of the best classifier using **all training data**. \n",
        "\n",
        "Note:  k-NN training involves no explicit training, but this is what we would do after model selection with decision trees or any other ML approach (we had 5 diff. models -one for each fold - for each k in the previous step - dont know which one to submit. Even if we picked the best one, it does not use all training samples.\n",
        "\n",
        "* Predict the labels of testing data \n",
        "\n",
        "* Report the accuracy "
      ]
    },
    {
      "cell_type": "code",
      "metadata": {
        "id": "Qi3pfvaBKTcg",
        "colab": {
          "base_uri": "https://localhost:8080/"
        },
        "outputId": "146c6065-53e9-4b6e-97d2-365234397f7c"
      },
      "source": [
        "from sklearn.metrics import accuracy_score\n",
        "\n",
        "# Train the best classifier using all training set\n",
        "knn = KNeighborsClassifier(n_neighbors=10)\n",
        "knn.fit(train_df, train_label)\n",
        "accuracy_train = cross_val_score(knn, train_df, train_label, cv=5)\n",
        "\n",
        "print(\"Accuracy over all train data:\", accuracy_train.mean())\n",
        "\n",
        "# Estimate the prediction of the test data\n",
        "\n",
        "knn.fit(test_df, test_label)\n",
        "estimate = knn.predict(test_df)\n",
        "\n",
        "# Print accuracy of test data\n",
        "accuracy_test = accuracy_score(estimate, test_label)\n",
        "print(\"Accuracy score of test data:\", accuracy_test)"
      ],
      "execution_count": null,
      "outputs": [
        {
          "output_type": "stream",
          "text": [
            "Accuracy over all train data: 0.7074999999999999\n",
            "Accuracy score of test data: 0.705\n"
          ],
          "name": "stdout"
        }
      ]
    },
    {
      "cell_type": "markdown",
      "metadata": {
        "id": "N4ZCEjEXiMGi"
      },
      "source": [
        "# 9) Bonus (5pts)\n",
        "\n",
        "There is a limited bonus for any extra work that you may use and improve the above results. \n",
        "\n",
        "You may try a larger k values, scale input features, remove some features, .... Please **do not overdo**, maybe spend another 30-60min on this. The idea is not do an exhaustive search (which wont help your understanding of ML process), but just to give some extra points to those who may look at the problem a little more comprehensively. \n",
        "\n",
        "**If you obtain better results than the above, please indicate the best model you have found and the corresponding accuracy.**\n",
        "\n",
        "E.g. using feature normalization ..... and removing .... features and using a value k=...., I have obtained ....% accuracy.\n"
      ]
    },
    {
      "cell_type": "code",
      "metadata": {
        "id": "eTnB4ZMviQGV",
        "colab": {
          "base_uri": "https://localhost:8080/"
        },
        "outputId": "6fed0865-3c24-409d-946d-2bf234487e8f"
      },
      "source": [
        "knn = KNeighborsClassifier(n_neighbors=15)\n",
        "knn.fit(train_df, train_label)\n",
        "accuracy_train = cross_val_score(knn, train_df, train_label, cv=5)\n",
        "\n",
        "print(\"Accuracy over all train data:\", accuracy_train.mean())\n",
        "\n",
        "# Estimate the prediction of the test data\n",
        "\n",
        "knn.fit(test_df, test_label)\n",
        "estimate = knn.predict(test_df)\n",
        "\n",
        "# Print accuracy of test data\n",
        "accuracy_test = accuracy_score(estimate, test_label)\n",
        "print(\"Accuracy score of test data:\", accuracy_test)"
      ],
      "execution_count": null,
      "outputs": [
        {
          "output_type": "stream",
          "text": [
            "Accuracy over all train data: 0.7100000000000001\n",
            "Accuracy score of test data: 0.675\n"
          ],
          "name": "stdout"
        }
      ]
    },
    {
      "cell_type": "code",
      "metadata": {
        "id": "WapWY6Y6YQfR",
        "colab": {
          "base_uri": "https://localhost:8080/"
        },
        "outputId": "ad70fa1e-3c14-4dd5-8c28-fab7851d9933"
      },
      "source": [
        "knn = KNeighborsClassifier(n_neighbors=5)\n",
        "knn.fit(train_df, train_label)\n",
        "accuracy_train = cross_val_score(knn, train_df, train_label, cv=5)\n",
        "\n",
        "print(\"Accuracy over all train data:\", accuracy_train.mean())\n",
        "\n",
        "# Estimate the prediction of the test data\n",
        "\n",
        "knn.fit(test_df, test_label)\n",
        "estimate = knn.predict(test_df)\n",
        "\n",
        "# Print accuracy of test data\n",
        "accuracy_test = accuracy_score(estimate, test_label)\n",
        "print(\"Accuracy score of test data:\", accuracy_test)"
      ],
      "execution_count": null,
      "outputs": [
        {
          "output_type": "stream",
          "text": [
            "Accuracy over all train data: 0.6775\n",
            "Accuracy score of test data: 0.705\n"
          ],
          "name": "stdout"
        }
      ]
    },
    {
      "cell_type": "markdown",
      "metadata": {
        "id": "C5AuzuKliQiY"
      },
      "source": [
        "# 10) Notebook & Report\n",
        "We are going to examine the German Credit Risk Data. This dataset classifies people as good or bad credit risks. \n",
        "We have splitted the data by %80 train, %20 test.\n",
        "\n",
        "We have found that only \"housing\" feature has missing values, and we have imputed these missing values with the most common housing value in the training set.\n",
        "\n",
        "Some features were given with codes that has meanings, like \"A30 : no credits taken/all credits paid back duly\", we have given them values if they were ordinal; and categorized the categorical features with dummy variables.\n",
        "\n",
        "The average accuracy scores turned out to be for k=5 -> 0.7, for k=10 -> 0.7375, and forr k=15 -> 0.756. \n",
        "\n",
        "With 5-cross validation, accuracy for knn= 5 was 0.66 with +/- 0.07 standard deviation, accuracy for knn= 10 was 0.68 with +/- 0.04 std dev. and accuracy for knn= 15 was 0.68 with +/- 0.06 std dev.\n",
        "\n",
        "I picked the knn=10 since it gave %68 accuracy score with 5-cross validation with 0.06 std dev, which was the best result between these 5-10-15 neighbored models.\n",
        "\n",
        "We have obtained the best results with the k-nearest-neighbor classifier with k=10 giving classification accuracy of %70.5 on test data.\n",
        "\n",
        "We have tried k=5 and k=15 also, even though k=5 gave less accuracy score on training data, it gave the same accuracy score with k=10 on test data.\n",
        "And as expected, k=15 had given bigger accuracy score on training data but have given %67.5 on test data, which may mean there is kind of an overfit."
      ]
    }
  ]
}